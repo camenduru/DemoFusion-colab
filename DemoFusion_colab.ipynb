{
  "cells": [
    {
      "cell_type": "markdown",
      "metadata": {
        "id": "view-in-github"
      },
      "source": [
        "[![Open In Colab](https://colab.research.google.com/assets/colab-badge.svg)](https://colab.research.google.com/github/camenduru/DemoFusion-colab/blob/main/DemoFusion_colab.ipynb)"
      ]
    },
    {
      "cell_type": "code",
      "execution_count": null,
      "metadata": {
        "id": "VjYy0F2gZIPR"
      },
      "outputs": [],
      "source": [
        "!pip install -q diffusers accelerate gradio gradio_imageslider\n",
        "\n",
        "import gradio as gr\n",
        "from pipeline_demofusion_sdxl import DemoFusionSDXLPipeline\n",
        "from gradio_imageslider import ImageSlider\n",
        "import torch\n",
        "\n",
        "def generate_images(prompt, negative_prompt, height, width, num_inference_steps, guidance_scale, cosine_scale_1, cosine_scale_2, cosine_scale_3, sigma, view_batch_size, stride, seed):\n",
        "    model_ckpt = \"stabilityai/stable-diffusion-xl-base-1.0\"\n",
        "    pipe = DemoFusionSDXLPipeline.from_pretrained(model_ckpt, torch_dtype=torch.float16, variant='fp16').to(\"cuda\")\n",
        "    generator = torch.Generator(device='cuda')\n",
        "    generator = generator.manual_seed(int(seed))\n",
        "    images = pipe(prompt, negative_prompt=negative_prompt, generator=generator,\n",
        "                  height=int(height), width=int(width), view_batch_size=int(view_batch_size), stride=int(stride),\n",
        "                  num_inference_steps=int(num_inference_steps), guidance_scale=guidance_scale,\n",
        "                  cosine_scale_1=cosine_scale_1, cosine_scale_2=cosine_scale_2, cosine_scale_3=cosine_scale_3, sigma=sigma,\n",
        "                  multi_decoder=True, show_image=False, lowvram=True\n",
        "                 )\n",
        "    return (images[0], images[-1])\n",
        "\n",
        "with gr.Blocks(title=f\"DeepCache\", css=\".gradio-container {max-width: 844px !important}\") as demo:\n",
        "    with gr.Group():\n",
        "        with gr.Row():\n",
        "            prompt = gr.Textbox(label=\"Prompt\")\n",
        "            negative_prompt = gr.Textbox(label=\"Negative Prompt\", value=\"blurry, ugly, duplicate, poorly drawn, deformed, mosaic\")\n",
        "            width = gr.Slider(minimum=1024, maximum=4096, step=1024, value=2048, label=\"Width\")\n",
        "            height = gr.Slider(minimum=1024, maximum=4096, step=1024, value=2048, label=\"Height\")\n",
        "            num_inference_steps = gr.Slider(minimum=10, maximum=100, step=1, value=50, label=\"Num Inference Steps\")\n",
        "            guidance_scale = gr.Slider(minimum=1, maximum=20, step=0.1, value=7.5, label=\"Guidance Scale\")\n",
        "        with gr.Row():\n",
        "            cosine_scale_1 = gr.Slider(minimum=0, maximum=5, step=0.1, value=3, label=\"Cosine Scale 1\")\n",
        "            cosine_scale_2 = gr.Slider(minimum=0, maximum=5, step=0.1, value=1, label=\"Cosine Scale 2\")\n",
        "            cosine_scale_3 = gr.Slider(minimum=0, maximum=5, step=0.1, value=1, label=\"Cosine Scale 3\")\n",
        "            sigma = gr.Slider(minimum=0.1, maximum=1, step=0.1, value=0.8, label=\"Sigma\")\n",
        "            view_batch_size = gr.Slider(minimum=4, maximum=32, step=4, value=16, label=\"View Batch Size\")\n",
        "            stride = gr.Slider(minimum=8, maximum=96, step=8, value=64, label=\"Stride\")\n",
        "            seed = gr.Number(label=\"Seed\", value=2013)\n",
        "        button = gr.Button()\n",
        "        output_images = gr.Gallery(show_label=False)\n",
        "    button.click(fn=generate_images, inputs=[prompt, negative_prompt, height, width, num_inference_steps, guidance_scale, cosine_scale_1, cosine_scale_2, cosine_scale_3, sigma, view_batch_size, stride, seed], outputs=[output_images], show_progress=True)\n",
        "demo.queue().launch(inline=False, share=True, debug=True)"
      ]
    }
  ],
  "metadata": {
    "accelerator": "GPU",
    "colab": {
      "gpuType": "T4",
      "provenance": []
    },
    "kernelspec": {
      "display_name": "Python 3",
      "name": "python3"
    },
    "language_info": {
      "name": "python"
    }
  },
  "nbformat": 4,
  "nbformat_minor": 0
}
